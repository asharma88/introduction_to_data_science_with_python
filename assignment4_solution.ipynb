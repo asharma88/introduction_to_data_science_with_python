{
 "cells": [
  {
   "cell_type": "markdown",
   "metadata": {},
   "source": [
    "---\n",
    "\n",
    "_You are currently looking at **version 1.1** of this notebook. To download notebooks and datafiles, as well as get help on Jupyter notebooks in the Coursera platform, visit the [Jupyter Notebook FAQ](https://www.coursera.org/learn/python-data-analysis/resources/0dhYG) course resource._\n",
    "\n",
    "---"
   ]
  },
  {
   "cell_type": "code",
   "execution_count": 1,
   "metadata": {
    "collapsed": true
   },
   "outputs": [],
   "source": [
    "import pandas as pd\n",
    "import numpy as np\n",
    "from scipy.stats import ttest_ind"
   ]
  },
  {
   "cell_type": "markdown",
   "metadata": {},
   "source": [
    "# Assignment 4 - Hypothesis Testing\n",
    "This assignment requires more individual learning than previous assignments - you are encouraged to check out the [pandas documentation](http://pandas.pydata.org/pandas-docs/stable/) to find functions or methods you might not have used yet, or ask questions on [Stack Overflow](http://stackoverflow.com/) and tag them as pandas and python related. And of course, the discussion forums are open for interaction with your peers and the course staff.\n",
    "\n",
    "Definitions:\n",
    "* A _quarter_ is a specific three month period, Q1 is January through March, Q2 is April through June, Q3 is July through September, Q4 is October through December.\n",
    "* A _recession_ is defined as starting with two consecutive quarters of GDP decline, and ending with two consecutive quarters of GDP growth.\n",
    "* A _recession bottom_ is the quarter within a recession which had the lowest GDP.\n",
    "* A _university town_ is a city which has a high percentage of university students compared to the total population of the city.\n",
    "\n",
    "**Hypothesis**: University towns have their mean housing prices less effected by recessions. Run a t-test to compare the ratio of the mean price of houses in university towns the quarter before the recession starts compared to the recession bottom. (`price_ratio=quarter_before_recession/recession_bottom`)\n",
    "\n",
    "The following data files are available for this assignment:\n",
    "* From the [Zillow research data site](http://www.zillow.com/research/data/) there is housing data for the United States. In particular the datafile for [all homes at a city level](http://files.zillowstatic.com/research/public/City/City_Zhvi_AllHomes.csv), ```City_Zhvi_AllHomes.csv```, has median home sale prices at a fine grained level.\n",
    "* From the Wikipedia page on college towns is a list of [university towns in the United States](https://en.wikipedia.org/wiki/List_of_college_towns#College_towns_in_the_United_States) which has been copy and pasted into the file ```university_towns.txt```.\n",
    "* From Bureau of Economic Analysis, US Department of Commerce, the [GDP over time](http://www.bea.gov/national/index.htm#gdp) of the United States in current dollars (use the chained value in 2009 dollars), in quarterly intervals, in the file ```gdplev.xls```. For this assignment, only look at GDP data from the first quarter of 2000 onward.\n",
    "\n",
    "Each function in this assignment below is worth 10%, with the exception of ```run_ttest()```, which is worth 50%."
   ]
  },
  {
   "cell_type": "code",
   "execution_count": 2,
   "metadata": {
    "collapsed": false
   },
   "outputs": [],
   "source": [
    "# Use this dictionary to map state names to two letter acronyms\n",
    "states = {'OH': 'Ohio', 'KY': 'Kentucky', 'AS': 'American Samoa', 'NV': 'Nevada', 'WY': 'Wyoming', 'NA': 'National', 'AL': 'Alabama', 'MD': 'Maryland', 'AK': 'Alaska', 'UT': 'Utah', 'OR': 'Oregon', 'MT': 'Montana', 'IL': 'Illinois', 'TN': 'Tennessee', 'DC': 'District of Columbia', 'VT': 'Vermont', 'ID': 'Idaho', 'AR': 'Arkansas', 'ME': 'Maine', 'WA': 'Washington', 'HI': 'Hawaii', 'WI': 'Wisconsin', 'MI': 'Michigan', 'IN': 'Indiana', 'NJ': 'New Jersey', 'AZ': 'Arizona', 'GU': 'Guam', 'MS': 'Mississippi', 'PR': 'Puerto Rico', 'NC': 'North Carolina', 'TX': 'Texas', 'SD': 'South Dakota', 'MP': 'Northern Mariana Islands', 'IA': 'Iowa', 'MO': 'Missouri', 'CT': 'Connecticut', 'WV': 'West Virginia', 'SC': 'South Carolina', 'LA': 'Louisiana', 'KS': 'Kansas', 'NY': 'New York', 'NE': 'Nebraska', 'OK': 'Oklahoma', 'FL': 'Florida', 'CA': 'California', 'CO': 'Colorado', 'PA': 'Pennsylvania', 'DE': 'Delaware', 'NM': 'New Mexico', 'RI': 'Rhode Island', 'MN': 'Minnesota', 'VI': 'Virgin Islands', 'NH': 'New Hampshire', 'MA': 'Massachusetts', 'GA': 'Georgia', 'ND': 'North Dakota', 'VA': 'Virginia'}"
   ]
  },
  {
   "cell_type": "code",
   "execution_count": 3,
   "metadata": {
    "collapsed": false
   },
   "outputs": [],
   "source": [
    "import pandas as pd\n",
    "import numpy as np\n",
    "import scipy.stats as stats\n",
    "\n",
    "\n",
    "def get_list_of_university_towns():\n",
    "    '''Returns a DataFrame of towns and the states they are in from the \n",
    "    university_towns.txt list. The format of the DataFrame should be:\n",
    "    DataFrame( [ [\"Michigan\", \"Ann Arbor\"], [\"Michigan\", \"Yipsilanti\"] ], \n",
    "    columns=[\"State\", \"RegionName\"]  )\n",
    "    \n",
    "    The following cleaning needs to be done:\n",
    "\n",
    "    1. For \"State\", removing characters from \"[\" to the end.\n",
    "    2. For \"RegionName\", when applicable, removing every character from \" (\" to the end.\n",
    "    3. Depending on how you read the data, you may need to remove newline character '\\n'. '''\n",
    "    \n",
    "    # Read the text file as csv into a dataframe.\n",
    "    # Using newline as the separator\n",
    "    utown_df = pd.read_csv(\"university_towns.txt\",sep='\\n',header=None, engine='python')\n",
    "    utown_df.columns = ['names']\n",
    "    \n",
    "    # Create a new column 'States' by:\n",
    "    #    splitting the entry by '[edit]', if present, else assigning it NaN value\n",
    "    #    picking up the first element of the split which would be the state name\n",
    "    #    striping of any whitespace\n",
    "    #    forward filling any NaN value with the state name\n",
    "    utown_df['State'] = utown_df['names'].apply(lambda x: x.split('[edit]')[0].strip()\n",
    "                                               if x.count('[edit]')>0 else np.NaN).fillna(method='ffill')\n",
    "    \n",
    "    # Create a new column 'RegionName' by:\n",
    "    #    splitting the entry by '(', if '[edit]' not present, else assigning it NaN value\n",
    "    #    picking up the first element of the split which would be the Region name\n",
    "    #    striping of any whitespace\n",
    "    utown_df['RegionName'] = utown_df['names'].apply(lambda x: x.split('(')[0].strip()\n",
    "                                               if x.count('[edit]')==0 else np.NaN)\n",
    "    \n",
    "    # drop any rows with NaN\n",
    "    # drop 'names', the original column\n",
    "    # reset the index to start from 0 while dropping the original index\n",
    "    utown_df = utown_df.dropna().drop('names', axis=1).reset_index(drop=True)\n",
    "    \n",
    "    return utown_df"
   ]
  },
  {
   "cell_type": "code",
   "execution_count": 5,
   "metadata": {
    "collapsed": false
   },
   "outputs": [
    {
     "name": "stdout",
     "output_type": "stream",
     "text": [
      "             State                    RegionName\n",
      "0          Alabama                        Auburn\n",
      "1          Alabama                      Florence\n",
      "2          Alabama                  Jacksonville\n",
      "3          Alabama                    Livingston\n",
      "4          Alabama                    Montevallo\n",
      "5          Alabama                          Troy\n",
      "6          Alabama                    Tuscaloosa\n",
      "7          Alabama                      Tuskegee\n",
      "8           Alaska                     Fairbanks\n",
      "9          Arizona                     Flagstaff\n",
      "10         Arizona                         Tempe\n",
      "11         Arizona                        Tucson\n",
      "12        Arkansas                   Arkadelphia\n",
      "13        Arkansas                        Conway\n",
      "14        Arkansas                  Fayetteville\n",
      "15        Arkansas                     Jonesboro\n",
      "16        Arkansas                      Magnolia\n",
      "17        Arkansas                    Monticello\n",
      "18        Arkansas                  Russellville\n",
      "19        Arkansas                        Searcy\n",
      "20      California                        Angwin\n",
      "21      California                        Arcata\n",
      "22      California                      Berkeley\n",
      "23      California                         Chico\n",
      "24      California                     Claremont\n",
      "25      California                        Cotati\n",
      "26      California                         Davis\n",
      "27      California                        Irvine\n",
      "28      California                    Isla Vista\n",
      "29      California  University Park, Los Angeles\n",
      "..             ...                           ...\n",
      "487       Virginia                          Wise\n",
      "488       Virginia                    Chesapeake\n",
      "489     Washington                    Bellingham\n",
      "490     Washington                        Cheney\n",
      "491     Washington                    Ellensburg\n",
      "492     Washington                       Pullman\n",
      "493     Washington  University District, Seattle\n",
      "494  West Virginia                        Athens\n",
      "495  West Virginia                    Buckhannon\n",
      "496  West Virginia                      Fairmont\n",
      "497  West Virginia                     Glenville\n",
      "498  West Virginia                    Huntington\n",
      "499  West Virginia                    Montgomery\n",
      "500  West Virginia                    Morgantown\n",
      "501  West Virginia                 Shepherdstown\n",
      "502  West Virginia                  West Liberty\n",
      "503      Wisconsin                      Appleton\n",
      "504      Wisconsin                    Eau Claire\n",
      "505      Wisconsin                     Green Bay\n",
      "506      Wisconsin                     La Crosse\n",
      "507      Wisconsin                       Madison\n",
      "508      Wisconsin                     Menomonie\n",
      "509      Wisconsin                     Milwaukee\n",
      "510      Wisconsin                       Oshkosh\n",
      "511      Wisconsin                   Platteville\n",
      "512      Wisconsin                   River Falls\n",
      "513      Wisconsin                 Stevens Point\n",
      "514      Wisconsin                      Waukesha\n",
      "515      Wisconsin                    Whitewater\n",
      "516        Wyoming                       Laramie\n",
      "\n",
      "[517 rows x 2 columns]\n"
     ]
    }
   ],
   "source": [
    "print(get_list_of_university_towns())"
   ]
  },
  {
   "cell_type": "code",
   "execution_count": 6,
   "metadata": {
    "collapsed": false
   },
   "outputs": [],
   "source": [
    "def read_gdp_data():\n",
    "    \n",
    "    # Read the gdp excel file\n",
    "    #    take no header\n",
    "    #    parse only the quarters and gdp (chained value in 2009 dollars) columns\n",
    "    #    not make any column as index\n",
    "    #    skip the first 8 rows (mostly blank rows and headers)\n",
    "    #    convert any decimal value to float (although it does the conversion even without specifying, in this case)\n",
    "    gdp_df = pd.read_excel('gdplev.xls', header=None, parse_cols=[4,6], index_col=None, skiprows= 8, convert_float=True)\n",
    "    \n",
    "    # Rename the columns\n",
    "    gdp_df.columns = ['Quarter', 'GDP']\n",
    "    \n",
    "    #Find the index of 2000q1, the starting quarter of interest\n",
    "    start_index = gdp_df[gdp_df['Quarter']=='2000q1'].index[0]\n",
    "    \n",
    "    # Taking the subset of the data from 2000q1\n",
    "    gdp_df = gdp_df[start_index:].reset_index(drop=True)\n",
    "    \n",
    "    return gdp_df\n",
    "\n",
    "def label_gdp():\n",
    "    \n",
    "    # Get the GDP data frame and create a new column 'change' with default = 0 (1 - GDP increase, 0 - GDP decline )\n",
    "    gdp_df = read_gdp_data()\n",
    "    gdp_df['change'] = '0'\n",
    "    \n",
    "    # Label the 'change' column with 1 or 0 depending on if the GDP increased compared to previous quarter\n",
    "    for i in range(1, gdp_df.shape[0]):\n",
    "        if gdp_df['GDP'][i] > gdp_df['GDP'][i-1]:\n",
    "            gdp_df['change'][i] = '1'\n",
    "        \n",
    "    return gdp_df\n",
    "\n",
    "def get_recession_start():\n",
    "    '''Returns the year and quarter of the recession start time as a \n",
    "    string value in a format such as 2005q3'''\n",
    "    \n",
    "    gdp_df = label_gdp()\n",
    "    \n",
    "    # Compare consecutive quarters to check GDP decline in 2 quarters in a row\n",
    "    # Recession start will be the quarter where the decline began\n",
    "    recession_start = ''\n",
    "    for i in range(1, gdp_df.shape[0]):\n",
    "        if (gdp_df['change'][i] == '0') and (gdp_df['change'][i-1] == '0'):\n",
    "            recession_start = gdp_df['Quarter'].loc[i-1]\n",
    "            break\n",
    "    \n",
    "    return recession_start"
   ]
  },
  {
   "cell_type": "code",
   "execution_count": 7,
   "metadata": {
    "collapsed": false
   },
   "outputs": [],
   "source": [
    "def get_recession_end():\n",
    "    '''Returns the year and quarter of the recession end time as a \n",
    "    string value in a format such as 2005q3'''\n",
    "    \n",
    "    gdp_df = label_gdp()\n",
    "    recession_start = get_recession_start()\n",
    "    \n",
    "    # Find the index of receession start date\n",
    "    recession_start_index = gdp_df[gdp_df['Quarter'] == recession_start].index[0]\n",
    "    \n",
    "    recession_end = ''\n",
    "    \n",
    "    # Start a loop from recession start quarter +3\n",
    "    # 0,1 are decline - from recession start; 2, 3 will be compared in the first run) \n",
    "    # If two consecutive quarters (after recession start) show GDP increase - the second quarter is recession end\n",
    "    for i in range(recession_start_index+3, gdp_df.shape[0]):\n",
    "        if (gdp_df['change'][i] == '1') and (gdp_df['change'][i-1] == '1'):\n",
    "            recession_end = gdp_df['Quarter'].loc[i]\n",
    "            break\n",
    "       \n",
    "    return recession_end"
   ]
  },
  {
   "cell_type": "code",
   "execution_count": 8,
   "metadata": {
    "collapsed": false
   },
   "outputs": [],
   "source": [
    "def get_recession_bottom():\n",
    "    '''Returns the year and quarter of the recession bottom time as a \n",
    "    string value in a format such as 2005q3'''\n",
    "    \n",
    "    # Get the GDP dataframe (Set Quarters as index) and recession start and end quarters\n",
    "    gdp_df = read_gdp_data().set_index('Quarter',drop =True)\n",
    "    recession_start = get_recession_start()\n",
    "    recession_end = get_recession_end()\n",
    "    \n",
    "    # Find the index of the minimum GDP between recession start and end quarters\n",
    "    recession_bottom = gdp_df.loc[recession_start:recession_end].idxmin()[0]\n",
    "    \n",
    "    return recession_bottom"
   ]
  },
  {
   "cell_type": "code",
   "execution_count": 9,
   "metadata": {
    "collapsed": false
   },
   "outputs": [],
   "source": [
    "def convert_housing_data_to_quarters():\n",
    "    '''Converts the housing data to quarters and returns it as mean \n",
    "    values in a dataframe. This dataframe should be a dataframe with\n",
    "    columns for 2000q1 through 2016q3, and should have a multi-index\n",
    "    in the shape of [\"State\",\"RegionName\"].\n",
    "    \n",
    "    Note: Quarters are defined in the assignment description, they are\n",
    "    not arbitrary three month periods.\n",
    "    \n",
    "    The resulting dataframe should have 67 columns, and 10,730 rows.\n",
    "    '''\n",
    "    # Read the Zillow Housing Price file into a data frame\n",
    "    raw_df = pd.read_csv('City_Zhvi_AllHomes.csv')\n",
    "    \n",
    "    #Declare the States dictionary\n",
    "    states = {'OH': 'Ohio', 'KY': 'Kentucky', 'AS': 'American Samoa', 'NV': 'Nevada', 'WY': 'Wyoming', 'NA': 'National', 'AL': 'Alabama', 'MD': 'Maryland', 'AK': 'Alaska', 'UT': 'Utah', 'OR': 'Oregon', 'MT': 'Montana', 'IL': 'Illinois', 'TN': 'Tennessee', 'DC': 'District of Columbia', 'VT': 'Vermont', 'ID': 'Idaho', 'AR': 'Arkansas', 'ME': 'Maine', 'WA': 'Washington', 'HI': 'Hawaii', 'WI': 'Wisconsin', 'MI': 'Michigan', 'IN': 'Indiana', 'NJ': 'New Jersey', 'AZ': 'Arizona', 'GU': 'Guam', 'MS': 'Mississippi', 'PR': 'Puerto Rico', 'NC': 'North Carolina', 'TX': 'Texas', 'SD': 'South Dakota', 'MP': 'Northern Mariana Islands', 'IA': 'Iowa', 'MO': 'Missouri', 'CT': 'Connecticut', 'WV': 'West Virginia', 'SC': 'South Carolina', 'LA': 'Louisiana', 'KS': 'Kansas', 'NY': 'New York', 'NE': 'Nebraska', 'OK': 'Oklahoma', 'FL': 'Florida', 'CA': 'California', 'CO': 'Colorado', 'PA': 'Pennsylvania', 'DE': 'Delaware', 'NM': 'New Mexico', 'RI': 'Rhode Island', 'MN': 'Minnesota', 'VI': 'Virgin Islands', 'NH': 'New Hampshire', 'MA': 'Massachusetts', 'GA': 'Georgia', 'ND': 'North Dakota', 'VA': 'Virginia'}\n",
    "    \n",
    "    # Change the State column to have full state names, using the states dictionary\n",
    "    raw_df['State'] = raw_df['State'].apply(lambda x: states[x])\n",
    "    \n",
    "    # Set the index to [State,Region Name]\n",
    "    raw_df = raw_df.set_index(['State', 'RegionName'])\n",
    "    \n",
    "    # Create a new dataframe that holds only Monthly median prices and convert it to datetime\n",
    "    time_cols_df = raw_df[raw_df.columns[4:]].rename(columns=pd.to_datetime)\n",
    "    cols = time_cols_df.columns\n",
    "    \n",
    "    # Select Columns from 2000 Quarter 1\n",
    "    # Resample it by mean of quarters\n",
    "    # rename the Columns to format 2000q1\n",
    "    time_cols_df = time_cols_df[cols[cols >= '2000-01-01']] \\\n",
    "                   .resample('Q', axis = 1).mean() \\\n",
    "                   .rename(columns = lambda x: '{}q{}'.format(x.year, x.quarter)) \n",
    "    \n",
    "    return time_cols_df"
   ]
  },
  {
   "cell_type": "code",
   "execution_count": 10,
   "metadata": {
    "collapsed": false
   },
   "outputs": [],
   "source": [
    "def run_ttest():\n",
    "    '''First creates new data showing the decline or growth of housing prices\n",
    "    between the recession start and the recession bottom. Then runs a ttest\n",
    "    comparing the university town values to the non-university towns values, \n",
    "    return whether the alternative hypothesis (that the two groups are the same)\n",
    "    is true or not as well as the p-value of the confidence. \n",
    "    \n",
    "    Return the tuple (different, p, better) where different=True if the t-test is\n",
    "    True at a p<0.01 (we reject the null hypothesis), or different=False if \n",
    "    otherwise (we cannot reject the null hypothesis). The variable p should\n",
    "    be equal to the exact p value returned from scipy.stats.ttest_ind(). The\n",
    "    value for better should be either \"university town\" or \"non-university town\"\n",
    "    depending on which has a lower mean price ratio (which is equivilent to a\n",
    "    reduced market loss).'''\n",
    "    \n",
    "    # Get the GDP dataframe (Set Quarters as index) and recession start, end, bottom quarters\n",
    "    gdp_df = read_gdp_data()\n",
    "    recession_start = get_recession_start()\n",
    "    recession_end = get_recession_end()\n",
    "    recession_bottom = get_recession_bottom()\n",
    "    utown_df = get_list_of_university_towns()\n",
    "    housing_df = convert_housing_data_to_quarters()\n",
    "    \n",
    "    recession_start_index = gdp_df[gdp_df['Quarter'] == recession_start].index[0]\n",
    "    quarter_before_recession = gdp_df['Quarter'].loc[recession_start_index-1]\n",
    "    \n",
    "    housing_df['PriceRatio'] = housing_df[quarter_before_recession].div(housing_df[recession_bottom])\n",
    "    \n",
    "    utown_tup = [tuple(x) for x in utown_df.to_records(index = False)]\n",
    "    \n",
    "    housing_utown = housing_df.loc[utown_tup]\n",
    "    housing = housing_df.loc[~housing_df.index.isin(utown_tup)]\n",
    "    \n",
    "    utown_mean = housing_utown['PriceRatio'].mean()\n",
    "    rest_mean = housing['PriceRatio'].mean()\n",
    "    \n",
    "    if utown_mean < rest_mean:\n",
    "        better = 'university town'\n",
    "    else:\n",
    "        better = 'non-university town'\n",
    "    \n",
    "    ttest = stats.ttest_ind(housing_utown['PriceRatio'], housing['PriceRatio'], nan_policy='omit')\n",
    "    \n",
    "    if ttest[1] < 0.01:\n",
    "        different = True\n",
    "    else:\n",
    "        different = False\n",
    "        \n",
    "    return (different, ttest[1], better)"
   ]
  },
  {
   "cell_type": "code",
   "execution_count": 13,
   "metadata": {
    "collapsed": false
   },
   "outputs": [
    {
     "name": "stderr",
     "output_type": "stream",
     "text": [
      "C:\\Program Files\\Anaconda3\\lib\\site-packages\\ipykernel\\__main__.py:31: SettingWithCopyWarning: \n",
      "A value is trying to be set on a copy of a slice from a DataFrame\n",
      "\n",
      "See the caveats in the documentation: http://pandas.pydata.org/pandas-docs/stable/indexing.html#indexing-view-versus-copy\n"
     ]
    },
    {
     "name": "stdout",
     "output_type": "stream",
     "text": [
      "(True, 0.0027240637047531249, 'university town')\n"
     ]
    }
   ],
   "source": [
    "print(run_ttest())"
   ]
  },
  {
   "cell_type": "code",
   "execution_count": null,
   "metadata": {
    "collapsed": true
   },
   "outputs": [],
   "source": []
  }
 ],
 "metadata": {
  "anaconda-cloud": {},
  "coursera": {
   "course_slug": "python-data-analysis",
   "graded_item_id": "Il9Fx",
   "launcher_item_id": "TeDW0",
   "part_id": "WGlun"
  },
  "kernelspec": {
   "display_name": "Python [default]",
   "language": "python",
   "name": "python3"
  },
  "language_info": {
   "codemirror_mode": {
    "name": "ipython",
    "version": 3
   },
   "file_extension": ".py",
   "mimetype": "text/x-python",
   "name": "python",
   "nbconvert_exporter": "python",
   "pygments_lexer": "ipython3",
   "version": "3.5.2"
  }
 },
 "nbformat": 4,
 "nbformat_minor": 0
}
